{
 "cells": [
  {
   "cell_type": "markdown",
   "metadata": {},
   "source": [
    "### A new enumeration is defined using the class syntax by subclassing Enum and adding class attributes describing the values."
   ]
  },
  {
   "cell_type": "code",
   "execution_count": 53,
   "metadata": {
    "collapsed": true
   },
   "outputs": [],
   "source": [
    "import enum"
   ]
  },
  {
   "cell_type": "markdown",
   "metadata": {},
   "source": [
    "### Creating Enumerations"
   ]
  },
  {
   "cell_type": "code",
   "execution_count": 68,
   "metadata": {
    "collapsed": false
   },
   "outputs": [],
   "source": [
    "class BugStatus(enum.Enum):\n",
    "    new = 7\n",
    "    incomplete = 6\n",
    "    invalid = 5\n",
    "    wont_fix = 4\n",
    "    in_progress = 3\n",
    "    fix_committed = 2\n",
    "    fix_released = 1"
   ]
  },
  {
   "cell_type": "code",
   "execution_count": 73,
   "metadata": {
    "collapsed": false,
    "scrolled": true
   },
   "outputs": [
    {
     "name": "stdout",
     "output_type": "stream",
     "text": [
      "BugStatus.invalid\n",
      "<BugStatus.invalid: 5>\n",
      "<enum 'BugStatus'>\n",
      "True\n",
      "\n",
      "Member Name: wont_fix\n",
      "Member Value: 4\n"
     ]
    }
   ],
   "source": [
    "print(BugStatus.invalid)\n",
    "print(repr(BugStatus.invalid))\n",
    "print(type(BugStatus.invalid))\n",
    "print(isinstance(BugStatus.invalid, BugStatus))\n",
    "print('\\nMember Name: {}'.format(BugStatus.wont_fix.name))\n",
    "print('Member Value: {}'.format(BugStatus.wont_fix.value))"
   ]
  },
  {
   "cell_type": "markdown",
   "metadata": {},
   "source": [
    "### Iterating over the enum class produces the individual members of the enumeration."
   ]
  },
  {
   "cell_type": "code",
   "execution_count": 76,
   "metadata": {
    "collapsed": false
   },
   "outputs": [
    {
     "name": "stdout",
     "output_type": "stream",
     "text": [
      "new             = 7\n",
      "incomplete      = 6\n",
      "invalid         = 5\n",
      "wont_fix        = 4\n",
      "in_progress     = 3\n",
      "fix_committed   = 2\n",
      "fix_released    = 1\n"
     ]
    }
   ],
   "source": [
    "for status in BugStatus:\n",
    "    print('{:15} = {}'.format(status.name, status.value))"
   ]
  },
  {
   "cell_type": "markdown",
   "metadata": {},
   "source": [
    "### Comparing Enums"
   ]
  },
  {
   "cell_type": "code",
   "execution_count": 57,
   "metadata": {
    "collapsed": false
   },
   "outputs": [
    {
     "name": "stdout",
     "output_type": "stream",
     "text": [
      "Equal   : False True\n",
      "Identity: False True\n",
      "Ordered by value:\n",
      "  Cannot sort: unorderable types: BugStatus() < BugStatus()\n"
     ]
    }
   ],
   "source": [
    "actual_state = BugStatus.wont_fix\n",
    "desired_state = BugStatus.fix_released\n",
    "\n",
    "print('Equal   :',\n",
    "      actual_state == desired_state,\n",
    "      actual_state == BugStatus.wont_fix)\n",
    "print('Identity:',\n",
    "      actual_state is desired_state,\n",
    "      actual_state is BugStatus.wont_fix)\n",
    "print('Ordered by value:')\n",
    "try:\n",
    "    print('\\n'.join('  ' + s.name for s in sorted(BugStatus)))\n",
    "except TypeError as err:\n",
    "    print('  Cannot sort: {}'.format(err))"
   ]
  },
  {
   "cell_type": "markdown",
   "metadata": {},
   "source": [
    "### enum.IntEnum"
   ]
  },
  {
   "cell_type": "code",
   "execution_count": 58,
   "metadata": {
    "collapsed": false
   },
   "outputs": [
    {
     "name": "stdout",
     "output_type": "stream",
     "text": [
      "Ordered by value:\n",
      " fix_released\n",
      " fix_committed\n",
      " in_progress\n",
      " wont_fix\n",
      " invalid\n",
      " incomplete\n",
      " new\n"
     ]
    }
   ],
   "source": [
    "class BugStatus(enum.IntEnum):\n",
    "\n",
    "    new = 7\n",
    "    incomplete = 6\n",
    "    invalid = 5\n",
    "    wont_fix = 4\n",
    "    in_progress = 3\n",
    "    fix_committed = 2\n",
    "    fix_released = 1\n",
    "\n",
    "\n",
    "print('Ordered by value:')\n",
    "print('\\n'.join(' ' + s.name for s in sorted(BugStatus)))"
   ]
  },
  {
   "cell_type": "markdown",
   "metadata": {},
   "source": [
    "### Enum members with the same value are tracked as alias references to the same member object. Any aliases do not cause repeated values to be present in the iterator for the Enum."
   ]
  },
  {
   "cell_type": "code",
   "execution_count": 59,
   "metadata": {
    "collapsed": false
   },
   "outputs": [
    {
     "name": "stdout",
     "output_type": "stream",
     "text": [
      "new             = 7\n",
      "incomplete      = 6\n",
      "invalid         = 5\n",
      "wont_fix        = 4\n",
      "in_progress     = 3\n",
      "fix_committed   = 2\n",
      "fix_released    = 1\n",
      "\n",
      "Same: by_design is wont_fix:  True\n",
      "Same: closed is fix_released:  True\n"
     ]
    }
   ],
   "source": [
    "class BugStatus(enum.Enum):\n",
    "\n",
    "    new = 7\n",
    "    incomplete = 6\n",
    "    invalid = 5\n",
    "    wont_fix = 4\n",
    "    in_progress = 3\n",
    "    fix_committed = 2\n",
    "    fix_released = 1\n",
    "\n",
    "    by_design = 4\n",
    "    closed = 1\n",
    "\n",
    "\n",
    "for status in BugStatus:\n",
    "    print('{:15} = {}'.format(status.name, status.value))\n",
    "\n",
    "print('\\nSame: by_design is wont_fix: ',\n",
    "      BugStatus.by_design is BugStatus.wont_fix)\n",
    "print('Same: closed is fix_released: ',\n",
    "      BugStatus.closed is BugStatus.fix_released)"
   ]
  },
  {
   "cell_type": "code",
   "execution_count": 60,
   "metadata": {
    "collapsed": false
   },
   "outputs": [
    {
     "ename": "ValueError",
     "evalue": "duplicate values found in <enum 'BugStatus'>: by_design -> wont_fix, closed -> fix_released",
     "output_type": "error",
     "traceback": [
      "\u001b[1;31m---------------------------------------------------------------------------\u001b[0m",
      "\u001b[1;31mValueError\u001b[0m                                Traceback (most recent call last)",
      "\u001b[1;32m<ipython-input-60-4a2beafcee65>\u001b[0m in \u001b[0;36m<module>\u001b[1;34m()\u001b[0m\n\u001b[0;32m      1\u001b[0m \u001b[1;33m@\u001b[0m\u001b[0menum\u001b[0m\u001b[1;33m.\u001b[0m\u001b[0munique\u001b[0m\u001b[1;33m\u001b[0m\u001b[0m\n\u001b[1;32m----> 2\u001b[1;33m \u001b[1;32mclass\u001b[0m \u001b[0mBugStatus\u001b[0m\u001b[1;33m(\u001b[0m\u001b[0menum\u001b[0m\u001b[1;33m.\u001b[0m\u001b[0mEnum\u001b[0m\u001b[1;33m)\u001b[0m\u001b[1;33m:\u001b[0m\u001b[1;33m\u001b[0m\u001b[0m\n\u001b[0m\u001b[0;32m      3\u001b[0m \u001b[1;33m\u001b[0m\u001b[0m\n\u001b[0;32m      4\u001b[0m     \u001b[0mnew\u001b[0m \u001b[1;33m=\u001b[0m \u001b[1;36m7\u001b[0m\u001b[1;33m\u001b[0m\u001b[0m\n\u001b[0;32m      5\u001b[0m     \u001b[0mincomplete\u001b[0m \u001b[1;33m=\u001b[0m \u001b[1;36m6\u001b[0m\u001b[1;33m\u001b[0m\u001b[0m\n",
      "\u001b[1;32mc:\\program files\\python 3.5\\lib\\enum.py\u001b[0m in \u001b[0;36munique\u001b[1;34m(enumeration)\u001b[0m\n\u001b[0;32m    565\u001b[0m                 [\"%s -> %s\" % (alias, name) for (alias, name) in duplicates])\n\u001b[0;32m    566\u001b[0m         raise ValueError('duplicate values found in %r: %s' %\n\u001b[1;32m--> 567\u001b[1;33m                 (enumeration, alias_details))\n\u001b[0m\u001b[0;32m    568\u001b[0m     \u001b[1;32mreturn\u001b[0m \u001b[0menumeration\u001b[0m\u001b[1;33m\u001b[0m\u001b[0m\n",
      "\u001b[1;31mValueError\u001b[0m: duplicate values found in <enum 'BugStatus'>: by_design -> wont_fix, closed -> fix_released"
     ]
    }
   ],
   "source": [
    "@enum.unique\n",
    "class BugStatus(enum.Enum):\n",
    "\n",
    "    new = 7\n",
    "    incomplete = 6\n",
    "    invalid = 5\n",
    "    wont_fix = 4\n",
    "    in_progress = 3\n",
    "    fix_committed = 2\n",
    "    fix_released = 1\n",
    "\n",
    "    # This will trigger an error with unique applied.\n",
    "    by_design = 4\n",
    "    closed = 1"
   ]
  },
  {
   "cell_type": "markdown",
   "metadata": {},
   "source": [
    "### Creating Enumerations Programmatically"
   ]
  },
  {
   "cell_type": "code",
   "execution_count": 61,
   "metadata": {
    "collapsed": false
   },
   "outputs": [
    {
     "name": "stdout",
     "output_type": "stream",
     "text": [
      "Member: BugStatus.new\n",
      "\n",
      "All members:\n",
      "fix_released    = 1\n",
      "fix_committed   = 2\n",
      "in_progress     = 3\n",
      "wont_fix        = 4\n",
      "invalid         = 5\n",
      "incomplete      = 6\n",
      "new             = 7\n"
     ]
    }
   ],
   "source": [
    "BugStatus = enum.Enum(\n",
    "    value='BugStatus',\n",
    "    names=('fix_released fix_committed in_progress '\n",
    "           'wont_fix invalid incomplete new'),\n",
    ")\n",
    "\n",
    "print('Member: {}'.format(BugStatus.new))\n",
    "\n",
    "print('\\nAll members:')\n",
    "for status in BugStatus:\n",
    "    print('{:15} = {}'.format(status.name, status.value))"
   ]
  },
  {
   "cell_type": "markdown",
   "metadata": {},
   "source": [
    "### For more control over the values associated with members, the names string can be replaced with a sequence of two-part tuples or a dictionary mapping names to values."
   ]
  },
  {
   "cell_type": "code",
   "execution_count": 62,
   "metadata": {
    "collapsed": false
   },
   "outputs": [
    {
     "name": "stdout",
     "output_type": "stream",
     "text": [
      "All members:\n",
      "new             = 7\n",
      "incomplete      = 6\n",
      "invalid         = 5\n",
      "wont_fix        = 4\n",
      "in_progress     = 3\n",
      "fix_committed   = 2\n",
      "fix_released    = 1\n"
     ]
    }
   ],
   "source": [
    "BugStatus = enum.Enum(\n",
    "    value='BugStatus',\n",
    "    names=[\n",
    "        ('new', 7),\n",
    "        ('incomplete', 6),\n",
    "        ('invalid', 5),\n",
    "        ('wont_fix', 4),\n",
    "        ('in_progress', 3),\n",
    "        ('fix_committed', 2),\n",
    "        ('fix_released', 1),\n",
    "    ],\n",
    ")\n",
    "\n",
    "print('All members:')\n",
    "for status in BugStatus:\n",
    "    print('{:15} = {}'.format(status.name, status.value))"
   ]
  },
  {
   "cell_type": "markdown",
   "metadata": {},
   "source": [
    "### Enum member values are not restricted to integers. Any type of object can be associated with a member."
   ]
  },
  {
   "cell_type": "code",
   "execution_count": 63,
   "metadata": {
    "collapsed": false
   },
   "outputs": [
    {
     "name": "stdout",
     "output_type": "stream",
     "text": [
      "Name: BugStatus.in_progress\n",
      "Value: {'transitions': ['new', 'fix_committed'], 'value': 3}\n",
      "Custom attribute: ['new', 'fix_committed']\n",
      "Using attribute: True\n"
     ]
    }
   ],
   "source": [
    "class BugStatus(enum.Enum):\n",
    "\n",
    "    new = {\n",
    "        'value': 7,\n",
    "        'transitions': ['incomplete',\n",
    "                        'invalid',\n",
    "                        'wont_fix',\n",
    "                        'in_progress',\n",
    "                        ],\n",
    "    }\n",
    "    incomplete = {\n",
    "        'value': 6,\n",
    "        'transitions': ['new', 'wont_fix'],\n",
    "    }\n",
    "    invalid = {\n",
    "        'value': 5,\n",
    "        'transitions': ['new'],\n",
    "    }\n",
    "    wont_fix = {\n",
    "        'value': 4,\n",
    "        'transitions': ['new'],\n",
    "    }\n",
    "    in_progress = {\n",
    "        'value': 3,\n",
    "        'transitions': ['new', 'fix_committed'],\n",
    "    }\n",
    "    fix_committed = {\n",
    "        'value': 2,\n",
    "        'transitions': ['in_progress', 'fix_released'],\n",
    "    }\n",
    "    fix_released = {\n",
    "        'value': 1,\n",
    "        'transitions': ['new'],\n",
    "    }\n",
    "\n",
    "    def __init__(self, vals):\n",
    "        self.num = vals['value']\n",
    "        self.transitions = vals['transitions']\n",
    "\n",
    "    def can_transition(self, new_state):\n",
    "        return new_state.name in self.transitions\n",
    "\n",
    "\n",
    "print('Name:', BugStatus.in_progress)\n",
    "print('Value:', BugStatus.in_progress.value)\n",
    "print('Custom attribute:', BugStatus.in_progress.transitions)\n",
    "print('Using attribute:',\n",
    "      BugStatus.in_progress.can_transition(BugStatus.new))"
   ]
  }
 ],
 "metadata": {
  "kernelspec": {
   "display_name": "Python 3",
   "language": "python",
   "name": "python3"
  },
  "language_info": {
   "codemirror_mode": {
    "name": "ipython",
    "version": 3
   },
   "file_extension": ".py",
   "mimetype": "text/x-python",
   "name": "python",
   "nbconvert_exporter": "python",
   "pygments_lexer": "ipython3",
   "version": "3.5.0"
  }
 },
 "nbformat": 4,
 "nbformat_minor": 0
}
